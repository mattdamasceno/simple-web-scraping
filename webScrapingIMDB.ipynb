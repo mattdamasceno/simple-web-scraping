{
 "cells": [
  {
   "cell_type": "code",
   "execution_count": 25,
   "id": "e0b1419e-0ab7-4efc-a651-de14f89edc3d",
   "metadata": {},
   "outputs": [],
   "source": [
    "import requests as req\n",
    "from bs4 import BeautifulSoup\n",
    "import pandas as pd"
   ]
  },
  {
   "cell_type": "code",
   "execution_count": 4,
   "id": "bd6fc3e7-07a4-4a7c-b293-2d275ce558b9",
   "metadata": {},
   "outputs": [],
   "source": [
    "url = \"https://www.imdb.com/chart/toptv/\""
   ]
  },
  {
   "cell_type": "code",
   "execution_count": 5,
   "id": "48998d7e-e849-47c6-aba3-790a2bd7fb0a",
   "metadata": {},
   "outputs": [],
   "source": [
    "## Headers para simular um navegador real, se não recebo um 503\n",
    "headers = {\"User-Agent\": \"Mozilla/5.0 (Windows NT 10.0; Win64; x64) AppleWebKit/537.36 (KHTML, like Gecko) Chrome/91.0.4472.124 Safari/537.36\"}"
   ]
  },
  {
   "cell_type": "code",
   "execution_count": 22,
   "id": "70550bfd-f872-4f07-93d1-7d51740c7168",
   "metadata": {},
   "outputs": [],
   "source": [
    "response = req.get(url, headers=headers).content\n",
    "soup = BeautifulSoup(response, \"html.parser\")"
   ]
  },
  {
   "cell_type": "code",
   "execution_count": 35,
   "id": "2a798cc8-03a0-475b-8265-fb73a2d7fb41",
   "metadata": {},
   "outputs": [
    {
     "name": "stdout",
     "output_type": "stream",
     "text": [
      "['1. Breaking Bad', '2. Planeta Terra II', '3. Planeta Terra', '4. Irmãos de Guerra', '5. Chernobyl', '6. A Escuta', '7. Avatar: A Lenda de Aang', '8. Planeta Azul II', '9. Família Soprano', '10. Cosmos: Uma Odisseia do Espaço-Tempo', '11. Cosmos', '12. Nosso Planeta', '13. Game of Thrones', '14. Bluey', '15. O Mundo em Guerra', '16. Fullmetal Alchemist: Brotherhood', '17. Rick e Morty', '18. Vida', '19. Arremesso Final', '20. Além da Imaginação', '21. A Guerra do Vietnã', '22. Sherlock', '23. Ataque dos Titãs', '24. Batman: A Série Animada', '25. Vida de Escritório', 'Recently viewed']\n",
      "['9.5', '9.5', '9.4', '9.4', '9.3', '9.3', '9.3', '9.3', '9.2', '9.2', '9.3', '9.3', '9.2', '9.3', '9.2', '9.1', '9.1', '9.1', '9.1', '9.1', '9.1', '9.1', '9.1', '9.0', '9.0']\n"
     ]
    }
   ],
   "source": [
    "filmes = [element.get_text() for element in soup.find_all('h3', class_=\"ipc-title__text\")]\n",
    "filmes = filmes[1:27]\n",
    "classificacao = [element.get_text() for element in soup.find_all('span', class_=\"ipc-rating-star--rating\")]\n",
    "print(filmes)\n",
    "print(classificacao)"
   ]
  },
  {
   "cell_type": "code",
   "execution_count": 36,
   "id": "f379309d-96bc-4df5-9813-50b4eaa8d1a4",
   "metadata": {},
   "outputs": [
    {
     "name": "stdout",
     "output_type": "stream",
     "text": [
      "{'1. Breaking Bad': '9.5', '2. Planeta Terra II': '9.5', '3. Planeta Terra': '9.4', '4. Irmãos de Guerra': '9.4', '5. Chernobyl': '9.3', '6. A Escuta': '9.3', '7. Avatar: A Lenda de Aang': '9.3', '8. Planeta Azul II': '9.3', '9. Família Soprano': '9.2', '10. Cosmos: Uma Odisseia do Espaço-Tempo': '9.2', '11. Cosmos': '9.3', '12. Nosso Planeta': '9.3', '13. Game of Thrones': '9.2', '14. Bluey': '9.3', '15. O Mundo em Guerra': '9.2', '16. Fullmetal Alchemist: Brotherhood': '9.1', '17. Rick e Morty': '9.1', '18. Vida': '9.1', '19. Arremesso Final': '9.1', '20. Além da Imaginação': '9.1', '21. A Guerra do Vietnã': '9.1', '22. Sherlock': '9.1', '23. Ataque dos Titãs': '9.1', '24. Batman: A Série Animada': '9.0', '25. Vida de Escritório': '9.0'}\n"
     ]
    }
   ],
   "source": [
    "# lista = list(zip(filmes, classificacao))\n",
    "# dicionario = dict(lista)\n",
    "# print(dicionario)\n",
    "\n",
    "dicionario = dict(zip(filmes, classificacao))\n",
    "print(dicionario)"
   ]
  },
  {
   "cell_type": "code",
   "execution_count": 37,
   "id": "00f78c25-76d0-4395-b7e5-fb1e845ac9b7",
   "metadata": {},
   "outputs": [
    {
     "data": {
      "text/html": [
       "<div>\n",
       "<style scoped>\n",
       "    .dataframe tbody tr th:only-of-type {\n",
       "        vertical-align: middle;\n",
       "    }\n",
       "\n",
       "    .dataframe tbody tr th {\n",
       "        vertical-align: top;\n",
       "    }\n",
       "\n",
       "    .dataframe thead th {\n",
       "        text-align: right;\n",
       "    }\n",
       "</style>\n",
       "<table border=\"1\" class=\"dataframe\">\n",
       "  <thead>\n",
       "    <tr style=\"text-align: right;\">\n",
       "      <th></th>\n",
       "      <th>Série</th>\n",
       "      <th>Nota</th>\n",
       "    </tr>\n",
       "  </thead>\n",
       "  <tbody>\n",
       "    <tr>\n",
       "      <th>0</th>\n",
       "      <td>1. Breaking Bad</td>\n",
       "      <td>9.5</td>\n",
       "    </tr>\n",
       "    <tr>\n",
       "      <th>1</th>\n",
       "      <td>2. Planeta Terra II</td>\n",
       "      <td>9.5</td>\n",
       "    </tr>\n",
       "    <tr>\n",
       "      <th>2</th>\n",
       "      <td>3. Planeta Terra</td>\n",
       "      <td>9.4</td>\n",
       "    </tr>\n",
       "    <tr>\n",
       "      <th>3</th>\n",
       "      <td>4. Irmãos de Guerra</td>\n",
       "      <td>9.4</td>\n",
       "    </tr>\n",
       "    <tr>\n",
       "      <th>4</th>\n",
       "      <td>5. Chernobyl</td>\n",
       "      <td>9.3</td>\n",
       "    </tr>\n",
       "    <tr>\n",
       "      <th>5</th>\n",
       "      <td>6. A Escuta</td>\n",
       "      <td>9.3</td>\n",
       "    </tr>\n",
       "    <tr>\n",
       "      <th>6</th>\n",
       "      <td>7. Avatar: A Lenda de Aang</td>\n",
       "      <td>9.3</td>\n",
       "    </tr>\n",
       "    <tr>\n",
       "      <th>7</th>\n",
       "      <td>8. Planeta Azul II</td>\n",
       "      <td>9.3</td>\n",
       "    </tr>\n",
       "    <tr>\n",
       "      <th>8</th>\n",
       "      <td>9. Família Soprano</td>\n",
       "      <td>9.2</td>\n",
       "    </tr>\n",
       "    <tr>\n",
       "      <th>9</th>\n",
       "      <td>10. Cosmos: Uma Odisseia do Espaço-Tempo</td>\n",
       "      <td>9.2</td>\n",
       "    </tr>\n",
       "    <tr>\n",
       "      <th>10</th>\n",
       "      <td>11. Cosmos</td>\n",
       "      <td>9.3</td>\n",
       "    </tr>\n",
       "    <tr>\n",
       "      <th>11</th>\n",
       "      <td>12. Nosso Planeta</td>\n",
       "      <td>9.3</td>\n",
       "    </tr>\n",
       "    <tr>\n",
       "      <th>12</th>\n",
       "      <td>13. Game of Thrones</td>\n",
       "      <td>9.2</td>\n",
       "    </tr>\n",
       "    <tr>\n",
       "      <th>13</th>\n",
       "      <td>14. Bluey</td>\n",
       "      <td>9.3</td>\n",
       "    </tr>\n",
       "    <tr>\n",
       "      <th>14</th>\n",
       "      <td>15. O Mundo em Guerra</td>\n",
       "      <td>9.2</td>\n",
       "    </tr>\n",
       "    <tr>\n",
       "      <th>15</th>\n",
       "      <td>16. Fullmetal Alchemist: Brotherhood</td>\n",
       "      <td>9.1</td>\n",
       "    </tr>\n",
       "    <tr>\n",
       "      <th>16</th>\n",
       "      <td>17. Rick e Morty</td>\n",
       "      <td>9.1</td>\n",
       "    </tr>\n",
       "    <tr>\n",
       "      <th>17</th>\n",
       "      <td>18. Vida</td>\n",
       "      <td>9.1</td>\n",
       "    </tr>\n",
       "    <tr>\n",
       "      <th>18</th>\n",
       "      <td>19. Arremesso Final</td>\n",
       "      <td>9.1</td>\n",
       "    </tr>\n",
       "    <tr>\n",
       "      <th>19</th>\n",
       "      <td>20. Além da Imaginação</td>\n",
       "      <td>9.1</td>\n",
       "    </tr>\n",
       "    <tr>\n",
       "      <th>20</th>\n",
       "      <td>21. A Guerra do Vietnã</td>\n",
       "      <td>9.1</td>\n",
       "    </tr>\n",
       "    <tr>\n",
       "      <th>21</th>\n",
       "      <td>22. Sherlock</td>\n",
       "      <td>9.1</td>\n",
       "    </tr>\n",
       "    <tr>\n",
       "      <th>22</th>\n",
       "      <td>23. Ataque dos Titãs</td>\n",
       "      <td>9.1</td>\n",
       "    </tr>\n",
       "    <tr>\n",
       "      <th>23</th>\n",
       "      <td>24. Batman: A Série Animada</td>\n",
       "      <td>9.0</td>\n",
       "    </tr>\n",
       "    <tr>\n",
       "      <th>24</th>\n",
       "      <td>25. Vida de Escritório</td>\n",
       "      <td>9.0</td>\n",
       "    </tr>\n",
       "  </tbody>\n",
       "</table>\n",
       "</div>"
      ],
      "text/plain": [
       "                                       Série Nota\n",
       "0                            1. Breaking Bad  9.5\n",
       "1                        2. Planeta Terra II  9.5\n",
       "2                           3. Planeta Terra  9.4\n",
       "3                        4. Irmãos de Guerra  9.4\n",
       "4                               5. Chernobyl  9.3\n",
       "5                                6. A Escuta  9.3\n",
       "6                 7. Avatar: A Lenda de Aang  9.3\n",
       "7                         8. Planeta Azul II  9.3\n",
       "8                         9. Família Soprano  9.2\n",
       "9   10. Cosmos: Uma Odisseia do Espaço-Tempo  9.2\n",
       "10                                11. Cosmos  9.3\n",
       "11                         12. Nosso Planeta  9.3\n",
       "12                       13. Game of Thrones  9.2\n",
       "13                                 14. Bluey  9.3\n",
       "14                     15. O Mundo em Guerra  9.2\n",
       "15      16. Fullmetal Alchemist: Brotherhood  9.1\n",
       "16                          17. Rick e Morty  9.1\n",
       "17                                  18. Vida  9.1\n",
       "18                       19. Arremesso Final  9.1\n",
       "19                    20. Além da Imaginação  9.1\n",
       "20                    21. A Guerra do Vietnã  9.1\n",
       "21                              22. Sherlock  9.1\n",
       "22                      23. Ataque dos Titãs  9.1\n",
       "23               24. Batman: A Série Animada  9.0\n",
       "24                    25. Vida de Escritório  9.0"
      ]
     },
     "execution_count": 37,
     "metadata": {},
     "output_type": "execute_result"
    }
   ],
   "source": [
    "df = pd.DataFrame(list(dicionario.items()), columns=['Série', 'Nota'])\n",
    "df"
   ]
  },
  {
   "cell_type": "code",
   "execution_count": null,
   "id": "0e618ec2-f8b6-48c8-bb45-2075abd65094",
   "metadata": {},
   "outputs": [],
   "source": []
  }
 ],
 "metadata": {
  "kernelspec": {
   "display_name": "Python 3 (ipykernel)",
   "language": "python",
   "name": "python3"
  },
  "language_info": {
   "codemirror_mode": {
    "name": "ipython",
    "version": 3
   },
   "file_extension": ".py",
   "mimetype": "text/x-python",
   "name": "python",
   "nbconvert_exporter": "python",
   "pygments_lexer": "ipython3",
   "version": "3.11.7"
  }
 },
 "nbformat": 4,
 "nbformat_minor": 5
}
